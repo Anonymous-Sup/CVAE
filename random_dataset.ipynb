{
 "cells": [
  {
   "cell_type": "code",
   "execution_count": 1,
   "metadata": {},
   "outputs": [],
   "source": [
    "import torch\n",
    "import numpy as np\n",
    "from PIL import Image\n",
    "import pdb\n",
    "import os\n",
    "import cv2\n",
    "from scipy.io import loadmat,savemat\n",
    "from collections import defaultdict\n",
    "import tqdm"
   ]
  },
  {
   "cell_type": "code",
   "execution_count": 39,
   "metadata": {},
   "outputs": [],
   "source": [
    "data_path = \"/home/zhengwei/Desktop/Zhengwei/Projects/datasets/Market-Sketch-1K\"\n",
    "train_style = ['A', 'B', 'C', 'D', 'E', 'F']\n",
    "files_rgb = os.listdir(data_path+'/photo/train')\n",
    "files_sk = {s: os.listdir(f'{data_path}/sketch/{s}/train') for s in train_style}"
   ]
  },
  {
   "cell_type": "code",
   "execution_count": 40,
   "metadata": {},
   "outputs": [],
   "source": [
    "pid_container = set()\n",
    "for s in files_sk.keys():\n",
    "    files = files_sk[s]\n",
    "    for img_path in files:\n",
    "        pid = int(img_path[:4])\n",
    "        pid_container.add(pid)\n",
    "pid2label = {pid:label for label, pid in enumerate(pid_container)}\n",
    "\n",
    "\n",
    "_train_image = defaultdict(list)\n",
    "_train_sketch = defaultdict(list)\n",
    "\n",
    "sketch2idx = {s: i for i, s in enumerate(train_style)}\n",
    "\n",
    "for s in files_sk.keys():\n",
    "    train_image = files_sk[s]\n",
    "    for img_path in train_image:\n",
    "        pid = int(img_path[:4])\n",
    "        _train_image[pid].append(f'sketch/{s}/train/{img_path}')\n",
    "        _train_sketch[pid].append(sketch2idx[s])\n"
   ]
  },
  {
   "cell_type": "code",
   "execution_count": 41,
   "metadata": {},
   "outputs": [
    {
     "name": "stdout",
     "output_type": "stream",
     "text": [
      "dict_keys([818, 936, 466, 757, 352, 321, 122, 480, 528, 11, 385, 593, 566, 211, 806, 423, 379, 926, 707, 957, 779, 718, 555, 407, 930, 166, 175, 828, 902, 832, 674, 392, 209, 890, 496, 331, 648, 434, 42, 599, 780, 882, 482, 177, 398, 151, 149, 900, 658, 134, 760, 886, 224, 339, 519, 933, 656, 537, 947, 197, 676, 46, 744, 752, 948, 374, 266, 540, 206, 450, 850, 522, 649, 895, 810, 259, 642, 941, 81, 181, 444, 594, 703, 414, 677, 584, 481, 359, 701, 563, 891, 714, 659, 613, 821, 697, 296, 961, 782, 317, 653, 472, 793, 552, 939, 446, 110, 464, 371, 59, 30, 357, 76, 108, 809, 115, 90, 236, 513, 180, 572, 615, 79, 349, 640, 893, 167, 855, 141, 761, 93, 755, 347, 796, 759, 245, 833, 823, 554, 545, 281, 408, 250, 683, 27, 237, 958, 53, 588, 570, 28, 397, 344, 611, 243, 225, 410, 662, 348, 525, 449, 248, 376, 517, 508, 327, 534, 843, 766, 565, 354, 173, 647, 201, 633, 82, 539, 143, 159, 484, 411, 663, 249, 702, 575, 43, 390, 148, 216, 872, 121, 603, 622, 195, 597, 314, 742, 299, 370, 214, 69, 404, 641, 785, 515, 307, 276, 140, 943, 389, 700, 35, 97, 208, 673, 606, 616, 158, 849, 399, 592, 204, 712, 105, 442, 854, 586, 516, 596, 733, 358, 22, 433, 432, 787, 589, 500, 199, 688, 772, 451, 222, 774, 748, 486, 795, 178, 529, 669, 269, 706, 802, 393, 273, 123, 419, 332, 64, 558, 917, 689, 77, 919, 361, 193, 23, 340, 883, 437, 430, 251, 491, 907, 10, 338, 380, 551, 136, 636, 68, 788, 377, 765, 503, 184, 901, 499, 767, 630, 427, 32, 629, 341, 905, 106, 65, 375, 164, 384, 114, 915, 118, 494, 573, 241, 709, 837, 48, 655, 879, 876, 762, 557, 303, 127, 842, 738, 413, 803, 628, 350, 749, 579, 666, 754, 705, 887, 940, 150, 868, 104, 100, 645, 277, 885, 667, 456, 547, 953, 306, 326, 7, 179, 84, 125, 335, 139, 665, 857, 681, 894, 729, 261, 859, 864, 814, 509, 896, 485, 56, 619, 297, 470, 459, 333, 848, 287, 172, 708, 639, 657, 954, 734, 298, 704, 190, 851, 67, 254, 635, 429, 309, 325, 581, 308, 162, 98, 903, 741, 942, 369, 564, 898, 682, 556, 955, 221, 107, 871, 169, 232, 135, 402, 477, 549, 202, 313, 403, 475, 20, 239, 117, 212, 111, 421, 328, 844, 279, 415, 88, 420, 116, 37, 952, 914, 441, 661, 820, 57, 863, 726, 536, 52, 12, 272, 468, 730, 660, 132, 318, 637, 830, 652, 445, 323, 457, 255, 176, 99, 234, 86, 301, 620, 773, 386, 711, 47, 268, 264, 862, 875, 524, 604, 724, 518, 781, 612, 424, 546, 670, 826, 324, 282, 696, 367, 70, 945, 739, 142, 409, 2, 946, 95, 394, 614, 160, 368, 185, 435, 685, 816, 223, 129, 792, 605, 892, 242, 623])\n",
      "3\n"
     ]
    }
   ],
   "source": [
    "print(_train_sketch.keys())\n",
    "# count the min length of images list in each id\n",
    "min_len = 100000\n",
    "for key in _train_image.keys():\n",
    "    min_len = min(min_len, len(_train_image[key]))\n",
    "print(min_len)\n"
   ]
  },
  {
   "cell_type": "code",
   "execution_count": 36,
   "metadata": {},
   "outputs": [],
   "source": [
    "import shutil\n",
    "\n",
    "def copy_file(src_path, dst_path):\n",
    "    shutil.copy(src_path, dst_path)"
   ]
  },
  {
   "cell_type": "code",
   "execution_count": 37,
   "metadata": {},
   "outputs": [
    {
     "name": "stderr",
     "output_type": "stream",
     "text": [
      "100%|██████████| 498/498 [00:00<00:00, 775.63it/s]\n"
     ]
    }
   ],
   "source": [
    "# seed manual seed for random function\n",
    "seed = 0\n",
    "torch.manual_seed(seed)\n",
    "torch.cuda.manual_seed(seed)\n",
    "np.random.seed(seed)\n",
    "\n",
    "few_shot_basepath = '/home/zhengwei/Desktop/Zhengwei/Projects/datasets/Market-Sketch-1K/sketch/fewshot'\n",
    "\n",
    "for pid in tqdm.tqdm(sorted(_train_image.keys())):\n",
    "    if not pid in pid2label.keys():\n",
    "            continue\n",
    "    img_paths = _train_image[pid]\n",
    "    sketch_idx = _train_sketch[pid]\n",
    "\n",
    "    # print(img_paths)\n",
    "\n",
    "    # # select a random number from 0 to len(sketch_idx)\n",
    "    # select = np.random.randint(0, len(sketch_idx))\n",
    "\n",
    "    # select 2 random numbers from 0 to len(sketch_idx)\n",
    "    select = np.random.choice(len(sketch_idx), 2, replace=False)\n",
    "    # selected_sketch = sketch_idx[select]\n",
    "    # unselected_sketch = [sketch_idx[i] for i in range(len(sketch_idx)) if i != select]\n",
    "\n",
    "    # print(sketch_idx)\n",
    "    # print(selected_sketch)\n",
    "    # print(unselected_sketch)\n",
    "    \n",
    "    for idx, img_path in enumerate(img_paths):\n",
    "        style = train_style[sketch_idx[idx]]\n",
    "        img = img_path.split('/')[-1][:4]\n",
    "        if idx in select:\n",
    "            # copy image_file from one path to another, with out open it\n",
    "            copy_file(f'{data_path}/{img_path}', f'{few_shot_basepath}/2sketch/finetune/{img}_{style}.jpg')\n",
    "        else:\n",
    "            copy_file(f'{data_path}/{img_path}', f'{few_shot_basepath}/2sketch/test/{img}_{style}.jpg')\n",
    "    # break\n",
    "\n",
    "\n"
   ]
  },
  {
   "cell_type": "code",
   "execution_count": 12,
   "metadata": {},
   "outputs": [
    {
     "name": "stdout",
     "output_type": "stream",
     "text": [
      "fewshot/\n",
      "    train/\n",
      "        finetune/\n",
      "            0002_E.jpg\n",
      "            0007_F.jpg\n",
      "            0010_A.jpg\n",
      "            0011_D.jpg\n",
      "            0012_D.jpg\n",
      "            0020_D.jpg\n",
      "        test/\n",
      "            0002_A.jpg\n",
      "            0002_B.jpg\n",
      "            0002_C.jpg\n",
      "            0002_D.jpg\n",
      "            0002_F.jpg\n",
      "            0007_A.jpg\n",
      "    all/\n",
      "        finetune/\n",
      "            0001_F.jpg\n",
      "            0002_E.jpg\n",
      "            0003_A.jpg\n",
      "            0004_E.jpg\n",
      "            0005_E.jpg\n",
      "            0006_E.jpg\n",
      "        test/\n",
      "            0001_A.jpg\n",
      "            0001_C.jpg\n",
      "            0001_D.jpg\n",
      "            0001_E.jpg\n",
      "            0002_A.jpg\n",
      "            0002_B.jpg\n"
     ]
    }
   ],
   "source": [
    "import os\n",
    "\n",
    "def print_directory_structure(startpath):\n",
    "    for root, dirs, files in os.walk(startpath):\n",
    "        level = root.replace(startpath, '').count(os.sep)\n",
    "        indent = ' ' * 4 * (level)\n",
    "        print('{}{}/'.format(indent, os.path.basename(root)))\n",
    "        subindent = ' ' * 4 * (level + 1)\n",
    "        for idx, f in enumerate(sorted(files)):\n",
    "            if idx < 6:\n",
    "                print('{}{}'.format(subindent, f))\n",
    "\n",
    "# Replace 'your_directory_path' with the path of the directory you want to print\n",
    "print_directory_structure(few_shot_basepath)"
   ]
  },
  {
   "cell_type": "code",
   "execution_count": 9,
   "metadata": {},
   "outputs": [
    {
     "name": "stdout",
     "output_type": "stream",
     "text": [
      "+--------+---------+------------------+--------------+-------+----------------+------------+\n",
      "|   Base |   train |   train/finetune |   train/test |   all |   all/finetune |   all/test |\n",
      "|--------+---------+------------------+--------------+-------+----------------+------------|\n",
      "|      0 |       0 |              498 |         1833 |     0 |            996 |       3705 |\n",
      "+--------+---------+------------------+--------------+-------+----------------+------------+\n"
     ]
    }
   ],
   "source": [
    "import os\n",
    "import pandas as pd\n",
    "from tabulate import tabulate\n",
    "\n",
    "def file_structure(path):\n",
    "    file_dict = {}\n",
    "    for root, dirs, files in os.walk(path):\n",
    "        # Use the relative path as the header, with 'Base' indicating the root directory\n",
    "        relative_path = os.path.relpath(root, path) if os.path.relpath(root, path) != '.' else 'Base'\n",
    "        file_dict[relative_path] = len(files)\n",
    "    return file_dict\n",
    "\n",
    "file_dict = file_structure(few_shot_basepath)\n",
    "\n",
    "# Creating a DataFrame from the dictionary, with directory structures as columns\n",
    "df = pd.DataFrame([file_dict])\n",
    "\n",
    "# Optional: If you want to sort the columns to reflect the directory structure hierarchy\n",
    "# df = df.sort_index(axis=1)\n",
    "\n",
    "# Printing the table using tabulate\n",
    "print(tabulate(df, headers='keys', tablefmt='psql', showindex=False))\n"
   ]
  },
  {
   "cell_type": "code",
   "execution_count": 42,
   "metadata": {},
   "outputs": [],
   "source": [
    "# according to the files in /home/zhengwei/Desktop/Zhengwei/Projects/datasets/Market-Sketch-1K/sketch/fewshot/2sketch\n",
    "# adjust copy file from  /home/zhengwei/Desktop/Zhengwei/Projects/datasets/Market-Sketch-1K/tensor/CLIPreidNew/sketch/fewshot/all to  /home/zhengwei/Desktop/Zhengwei/Projects/datasets/Market-Sketch-1K/tensor/CLIPreidNew/sketch/fewshot/2sketch\n",
    "\n"
   ]
  }
 ],
 "metadata": {
  "kernelspec": {
   "display_name": "yzwT2V",
   "language": "python",
   "name": "python3"
  },
  "language_info": {
   "codemirror_mode": {
    "name": "ipython",
    "version": 3
   },
   "file_extension": ".py",
   "mimetype": "text/x-python",
   "name": "python",
   "nbconvert_exporter": "python",
   "pygments_lexer": "ipython3",
   "version": "3.9.18"
  }
 },
 "nbformat": 4,
 "nbformat_minor": 2
}
