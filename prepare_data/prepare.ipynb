{
 "cells": [
  {
   "cell_type": "code",
   "execution_count": 4,
   "metadata": {},
   "outputs": [],
   "source": [
    "import os\n",
    "from shutil import copyfile"
   ]
  },
  {
   "cell_type": "code",
   "execution_count": 5,
   "metadata": {},
   "outputs": [],
   "source": [
    "######################################################################\n",
    "# Prepare dataset for training\n",
    "# You only need to change this line to your dataset download path\n",
    "# --------------------------------------------------------------------\n",
    "\n",
    "download_path = '/home/zhengwei/Desktop/Zhengwei/Projects/datasets/DukeMTMC-reID'\n",
    "\n",
    "if 'cuhk' in download_path:\n",
    "    suffix = 'png'\n",
    "else:\n",
    "    suffix = 'jpg'\n",
    "\n",
    "if not os.path.isdir(download_path):\n",
    "    print('please change the download_path')\n",
    "\n",
    "save_path = download_path + '/pytorch'\n",
    "if not os.path.isdir(save_path):\n",
    "    os.mkdir(save_path)"
   ]
  },
  {
   "cell_type": "code",
   "execution_count": 6,
   "metadata": {},
   "outputs": [],
   "source": [
    "query_path = download_path + '/query'\n",
    "query_save_path = download_path + '/pytorch/query'\n",
    "if not os.path.isdir(query_save_path):\n",
    "    os.mkdir(query_save_path)\n",
    "    \n",
    "for root, dirs, files in os.walk(query_path, topdown=True):\n",
    "    for name in files:\n",
    "        if not name[-3:] == suffix:\n",
    "            continue\n",
    "        ID = name.split('_')\n",
    "        src_path = query_path + '/' + name\n",
    "        dst_path = query_save_path + '/' + ID[0]\n",
    "        if not os.path.isdir(dst_path):\n",
    "            os.mkdir(dst_path)\n",
    "        copyfile(src_path, dst_path + '/' + name)"
   ]
  },
  {
   "cell_type": "code",
   "execution_count": 7,
   "metadata": {},
   "outputs": [],
   "source": [
    "# gallery\n",
    "gallery_path = download_path + '/bounding_box_test'\n",
    "gallery_save_path = download_path + '/pytorch/gallery'\n",
    "if not os.path.isdir(gallery_save_path):\n",
    "    os.mkdir(gallery_save_path)\n",
    "\n",
    "for root, dirs, files in os.walk(gallery_path, topdown=True):\n",
    "    for name in files:\n",
    "        if not name[-3:] == suffix:\n",
    "            continue\n",
    "        ID = name.split('_')\n",
    "        src_path = gallery_path + '/' + name\n",
    "        dst_path = gallery_save_path + '/' + ID[0]\n",
    "        if not os.path.isdir(dst_path):\n",
    "            os.mkdir(dst_path)\n",
    "        copyfile(src_path, dst_path + '/' + name)"
   ]
  },
  {
   "cell_type": "code",
   "execution_count": 8,
   "metadata": {},
   "outputs": [],
   "source": [
    "# ---------------------------------------\n",
    "# train_all\n",
    "train_path = download_path + '/bounding_box_train'\n",
    "train_save_path = download_path + '/pytorch/train_all'\n",
    "if not os.path.isdir(train_save_path):\n",
    "    os.mkdir(train_save_path)\n",
    "\n",
    "for root, dirs, files in os.walk(train_path, topdown=True):\n",
    "    for name in files:\n",
    "        if not name[-3:] == suffix:\n",
    "            continue\n",
    "        ID = name.split('_')\n",
    "        src_path = train_path + '/' + name\n",
    "        dst_path = train_save_path + '/' + ID[0]\n",
    "        if not os.path.isdir(dst_path):\n",
    "            os.mkdir(dst_path)\n",
    "        copyfile(src_path, dst_path + '/' + name)"
   ]
  },
  {
   "cell_type": "code",
   "execution_count": 31,
   "metadata": {},
   "outputs": [
    {
     "name": "stdout",
     "output_type": "stream",
     "text": [
      "D:\\Datasets\\DukeMTMC-reID/bounding_box_train\n"
     ]
    }
   ],
   "source": [
    "train_path = download_path + '/bounding_box_train'\n",
    "cnt = 0\n",
    "root, dirs, files = next(os.walk(train_path, topdown=True))\n",
    "\n",
    "print(root)"
   ]
  },
  {
   "cell_type": "markdown",
   "metadata": {},
   "source": [
    "### Official code of Open-Clip"
   ]
  },
  {
   "cell_type": "code",
   "execution_count": null,
   "metadata": {},
   "outputs": [],
   "source": [
    "import torch\n",
    "from PIL import Image\n",
    "import open_clip\n",
    "\n",
    "model, _, preprocess = open_clip.create_model_and_transforms('ViT-B-32', pretrained='laion2b_s34b_b79k')\n",
    "tokenizer = open_clip.get_tokenizer('ViT-B-32')\n",
    "\n",
    "image = preprocess(Image.open(\"CLIP.png\")).unsqueeze(0)\n",
    "\n",
    "text = tokenizer([\"a diagram\", \"a dog\", \"a cat\"])\n",
    "\n",
    "with torch.no_grad(), torch.cuda.amp.autocast():\n",
    "    image_features = model.encode_image(image)\n",
    "    text_features = model.encode_text(text)\n",
    "    image_features /= image_features.norm(dim=-1, keepdim=True)\n",
    "    text_features /= text_features.norm(dim=-1, keepdim=True)\n",
    "\n",
    "    text_probs = (100.0 * image_features @ text_features.T).softmax(dim=-1)\n",
    "\n",
    "print(\"Label probs:\", text_probs)  # prints: [[1., 0., 0.]]"
   ]
  },
  {
   "cell_type": "markdown",
   "metadata": {},
   "source": [
    "### For feature extraction"
   ]
  },
  {
   "cell_type": "code",
   "execution_count": 3,
   "metadata": {},
   "outputs": [
    {
     "name": "stdout",
     "output_type": "stream",
     "text": [
      "train_path: /home/zhengwei/Desktop/Zhengwei/Projects/datasets/DukeMTMC-reID/pytorch/gallery\n"
     ]
    }
   ],
   "source": [
    "import torch\n",
    "from PIL import Image\n",
    "import open_clip\n",
    "import os\n",
    "\n",
    "suffix = '.jpg'\n",
    "\n",
    "device = 'cuda' if torch.cuda.is_available() else 'cpu'\n",
    "\n",
    "model, _, preprocess = open_clip.create_model_and_transforms('ViT-B-32', pretrained='laion2b_s34b_b79k', device=device)\n",
    "\n",
    "train_path = '/home/zhengwei/Desktop/Zhengwei/Projects/datasets/DukeMTMC-reID/pytorch/gallery'\n",
    "print('train_path:', train_path)\n",
    "\n",
    "feature_path = '/home/zhengwei/Desktop/Zhengwei/Projects/datasets/DukeMTMC-reID/tensors/gallery'\n",
    "\n",
    "# images_feature = {}\n",
    "# get all folders in the train_path\n",
    "cnt = 0\n",
    "dirs = os.listdir(train_path)\n",
    "for dir in dirs:\n",
    "    feature_root= os.path.join(feature_path, dir)\n",
    "    os.makedirs(feature_root, exist_ok=True)\n",
    "        \n",
    "    root, _, files = next(os.walk(train_path + '/' + dir))\n",
    "    for name in files:\n",
    "        pre, ext = os.path.splitext(name)\n",
    "        if ext != suffix:\n",
    "            continue\n",
    "        single_image_path = os.path.join(root, name)\n",
    "        single_image = preprocess(Image.open(single_image_path)).unsqueeze(0)\n",
    "        with torch.no_grad(), torch.cuda.amp.autocast():\n",
    "            single_image_features = model.encode_image(single_image.cuda())\n",
    "            single_image_features /= single_image_features.norm(dim=-1, keepdim=True)\n",
    "            # images_feature[name] = single_image_features\n",
    "            torch.save(single_image_features, os.path.join(feature_root, pre + '.pt'))\n",
    "    cnt += 1\n",
    "    if cnt == 10:\n",
    "        break"
   ]
  },
  {
   "cell_type": "code",
   "execution_count": 45,
   "metadata": {},
   "outputs": [
    {
     "name": "stdout",
     "output_type": "stream",
     "text": [
      "torch.Size([1, 3, 224, 224])\n",
      "dict_keys(['4509_c7_f0115296.jpg', '4509_c6_f0110933.jpg', '4509_c6_f0111053.jpg', '4509_c6_f0111173.jpg', '4509_c7_f0114936.jpg', '4509_c6_f0110573.jpg', '4509_c6_f0110693.jpg', '4509_c8_f0088504.jpg', '4509_c7_f0115056.jpg', '4509_c6_f0110813.jpg', '4509_c8_f0088384.jpg', '4509_c7_f0115176.jpg', '4509_c8_f0088264.jpg'])\n",
      "4509_2 tensor([[-1.9592e-02, -1.3086e-01,  2.7985e-02, -5.6305e-02, -1.4107e-02,\n",
      "         -9.5596e-03,  1.4175e-02,  3.3722e-02,  7.2823e-03, -9.1934e-03,\n",
      "          3.3684e-03,  1.9372e-04,  1.0712e-02, -1.5579e-02, -8.7814e-03,\n",
      "         -2.6596e-02,  1.7407e-01,  4.4281e-02,  3.4271e-02, -3.7811e-02,\n",
      "          4.6906e-02,  1.3542e-02, -5.8380e-02, -1.3527e-02, -1.1978e-02,\n",
      "         -2.3708e-03, -1.0612e-02, -1.2589e-02,  5.1971e-02,  8.5144e-03,\n",
      "         -5.5023e-02,  1.9150e-02, -1.6006e-02,  4.3793e-02,  2.6810e-02,\n",
      "          3.6621e-02, -9.5215e-03, -2.4796e-02, -5.4016e-03,  7.9269e-03,\n",
      "          1.8219e-02, -2.7191e-02, -4.4312e-02,  2.4414e-02,  8.7585e-03,\n",
      "         -1.9531e-02, -1.1200e-02,  8.5907e-03,  3.4294e-03,  7.9117e-03,\n",
      "          1.7899e-02,  6.5552e-02,  4.2458e-03,  4.4212e-03,  6.0394e-02,\n",
      "          5.1819e-02, -3.8055e-02, -2.2308e-02, -3.2104e-02,  5.4359e-03,\n",
      "         -5.4138e-02, -3.9917e-02, -4.0855e-03, -6.4331e-02,  2.4002e-02,\n",
      "          2.7924e-02, -8.5754e-03, -1.3269e-01,  3.4027e-02,  6.3210e-03,\n",
      "         -9.6680e-02, -3.6354e-03,  2.5009e-02, -6.1226e-03, -1.2787e-02,\n",
      "         -4.8615e-02,  6.5735e-02, -9.9106e-03, -1.6495e-02, -1.9409e-02,\n",
      "         -2.1896e-02, -1.5350e-02,  1.2550e-03, -2.8515e-03, -1.6235e-02,\n",
      "         -1.9012e-02, -4.0771e-02, -7.6714e-03, -2.8580e-02,  9.7961e-03,\n",
      "         -4.5593e-02,  6.4011e-03, -4.1809e-03, -1.3756e-02,  1.6434e-02,\n",
      "         -1.3725e-02, -1.3298e-02,  4.4006e-02,  4.3640e-03, -3.6316e-02,\n",
      "          1.6006e-02, -5.9433e-03,  2.6016e-02,  3.9749e-03, -2.4734e-02,\n",
      "         -7.0915e-03, -8.3984e-02, -4.3144e-03, -4.1733e-03, -2.2522e-02,\n",
      "          3.8177e-02, -9.5596e-03, -1.1284e-02, -7.3814e-03, -1.4641e-02,\n",
      "         -9.5596e-03,  1.6205e-02, -1.5659e-03, -3.4576e-02,  3.0346e-03,\n",
      "          6.9427e-03, -2.9877e-02,  3.2135e-02,  2.6123e-02, -5.6114e-03,\n",
      "          4.9500e-02, -1.5251e-02, -8.8806e-03, -3.0167e-02, -4.7340e-03,\n",
      "         -6.0387e-03, -1.5915e-02,  2.9922e-02,  2.8687e-03, -1.6403e-02,\n",
      "         -4.3732e-02,  7.3051e-04, -3.2684e-02,  4.8943e-03,  5.9700e-03,\n",
      "         -2.8267e-03, -3.4729e-02,  3.1281e-02,  3.2196e-02,  5.9692e-02,\n",
      "         -1.4572e-02,  1.1909e-02,  5.5618e-03, -1.3990e-03,  1.5289e-02,\n",
      "         -8.2550e-03, -1.4137e-02,  4.4531e-01, -2.1591e-02, -9.8572e-03,\n",
      "          2.0218e-02,  2.3376e-02,  8.7738e-03, -6.4163e-03, -4.6158e-03,\n",
      "         -2.8168e-02,  6.5918e-03, -4.4594e-03, -2.9846e-02,  1.0738e-03,\n",
      "          6.4087e-02,  1.7792e-02, -8.6182e-02, -3.7781e-02, -2.4673e-02,\n",
      "          4.2084e-02,  2.9266e-02, -4.5815e-03,  3.0289e-03, -5.1697e-02,\n",
      "         -5.9471e-03,  1.0483e-02,  4.8309e-02,  4.8294e-03, -2.8671e-02,\n",
      "          1.7136e-02, -3.2898e-02, -2.4445e-02,  3.9940e-03, -3.7079e-02,\n",
      "         -2.3682e-02, -2.8275e-02, -3.1021e-02,  1.7761e-02,  1.8799e-02,\n",
      "          2.8706e-03,  5.6519e-02, -2.2949e-02, -3.3875e-02,  1.5289e-02,\n",
      "         -4.6310e-03, -2.6077e-02, -4.4441e-03, -1.0986e-02,  9.0332e-03,\n",
      "         -2.7924e-02,  1.7603e-01,  3.6926e-02, -1.5991e-02,  2.6306e-02,\n",
      "         -4.7607e-03,  7.5951e-03, -2.4170e-02, -6.3782e-03,  3.0270e-03,\n",
      "          2.9724e-02, -3.9093e-02, -1.7685e-02, -2.2659e-03,  6.9275e-03,\n",
      "         -6.2370e-03,  1.6602e-02, -1.7120e-02, -1.4778e-02, -7.7286e-03,\n",
      "          1.6342e-02,  4.4212e-03, -2.1027e-02, -1.9043e-02,  1.9501e-02,\n",
      "         -3.1677e-02, -3.0502e-02,  1.9638e-02, -1.7471e-02,  1.3008e-02,\n",
      "          5.3741e-02, -5.6610e-03, -2.4780e-02, -1.0658e-02, -3.5736e-02,\n",
      "         -6.5689e-03, -6.5346e-03,  5.1842e-03, -1.3176e-02, -2.2411e-03,\n",
      "         -5.7312e-02, -2.0618e-01,  6.7627e-02,  1.1604e-02,  2.3289e-03,\n",
      "         -1.3138e-02,  2.7802e-02,  1.2030e-01,  4.1779e-02, -5.7716e-03,\n",
      "          2.9877e-02, -1.8692e-02,  2.9282e-02, -9.6680e-02, -5.5420e-02,\n",
      "          2.6871e-02, -8.8654e-03, -1.4969e-02,  1.1566e-02,  2.1973e-03,\n",
      "          2.0233e-02, -1.2503e-03,  8.5373e-03, -1.2192e-02,  7.2021e-03,\n",
      "          2.7863e-02, -3.0258e-02, -6.3171e-03,  3.8635e-02, -1.6617e-02,\n",
      "         -4.4312e-02, -5.1270e-02, -1.1269e-02,  1.6708e-02, -4.4942e-04,\n",
      "         -2.3239e-02,  2.9022e-02, -1.8616e-02, -7.4959e-03,  4.8340e-02,\n",
      "         -1.9875e-03,  9.5825e-03, -9.4604e-04,  6.7291e-03, -5.9624e-03,\n",
      "         -3.2063e-03,  9.0637e-03,  1.5427e-02,  1.0094e-02,  1.2932e-02,\n",
      "          3.3020e-02, -7.1831e-03,  1.3786e-02, -1.0796e-02, -1.5823e-02,\n",
      "          1.3809e-02,  1.5472e-02,  3.5950e-02, -2.5177e-02,  1.3420e-02,\n",
      "          1.0632e-01, -1.5381e-02,  2.9480e-02, -3.3020e-02, -2.9182e-04,\n",
      "          2.6306e-02,  4.7485e-02, -4.4604e-01, -7.9193e-03, -3.0351e-04,\n",
      "          7.6790e-03,  5.9113e-02,  1.3138e-02,  1.1873e-03, -4.1485e-04,\n",
      "         -1.7578e-02, -3.0350e-02, -1.9363e-02, -1.9714e-02,  2.0737e-02,\n",
      "         -2.5070e-02, -7.3586e-03,  2.0065e-02, -5.9738e-03, -1.3474e-02,\n",
      "         -2.2888e-02,  1.4153e-02, -5.3253e-02,  6.3286e-03,  6.7215e-03,\n",
      "         -4.5586e-03, -3.8696e-02, -7.2289e-03,  5.2338e-02, -1.8677e-02,\n",
      "          2.9343e-02, -2.5528e-02, -3.6865e-02, -7.0419e-03,  1.6830e-02,\n",
      "         -6.7635e-03, -1.1551e-02, -6.7749e-03,  2.6123e-02,  5.1453e-02,\n",
      "         -1.6586e-02,  2.8496e-03,  7.5150e-03,  6.0425e-03,  1.8906e-02,\n",
      "          7.0862e-02, -1.8372e-02, -2.3941e-02,  1.4992e-02,  2.9190e-02,\n",
      "          4.1809e-02, -1.8082e-02,  3.5522e-02, -2.4567e-02,  1.3752e-03,\n",
      "          5.2376e-03, -2.3636e-02, -4.2839e-03, -3.4821e-02, -3.2593e-02,\n",
      "         -1.1803e-02, -6.5956e-03,  1.6586e-02, -9.7107e-02,  9.4299e-03,\n",
      "          3.2104e-02,  4.2755e-02,  3.8738e-03, -3.3150e-03, -7.1297e-03,\n",
      "          1.6882e-01,  1.8265e-02, -9.7046e-03,  1.3702e-02,  4.4769e-02,\n",
      "          9.9869e-03,  1.1627e-02, -2.1881e-02, -3.6713e-02, -1.9775e-02,\n",
      "          2.4307e-02,  6.4087e-03, -5.7007e-02, -1.3409e-03, -2.0638e-03,\n",
      "         -3.3844e-02, -2.5360e-02,  3.8879e-02,  2.4170e-02, -4.3152e-02,\n",
      "         -1.3184e-02, -1.2463e-01,  1.3008e-02, -9.2926e-03,  1.7090e-02,\n",
      "          7.9880e-03,  1.7319e-03, -6.3744e-03, -7.8613e-02, -1.4221e-02,\n",
      "          1.7487e-02,  8.1863e-03,  1.3756e-02,  2.1648e-03,  2.9861e-02,\n",
      "          1.7426e-02,  1.7868e-02,  7.0190e-02,  1.1325e-06, -1.3687e-02,\n",
      "         -1.2360e-02, -1.9669e-02, -2.4872e-02,  3.0446e-04, -2.3560e-02,\n",
      "         -8.1444e-04,  2.9922e-02, -4.3365e-02, -1.2749e-02,  3.4515e-02,\n",
      "         -1.9501e-02, -2.8915e-02, -2.3300e-02,  1.2741e-02,  2.3453e-02,\n",
      "          1.3458e-02,  1.2695e-02, -5.2681e-03, -6.4659e-04, -5.3345e-02,\n",
      "          1.2718e-02, -1.7761e-02,  1.2245e-02,  3.4180e-02,  1.2978e-02,\n",
      "          9.8572e-03,  2.6169e-02,  1.3466e-02, -9.8572e-03,  2.3209e-02,\n",
      "         -1.2405e-02, -1.5808e-02, -6.7101e-03,  8.5144e-02, -4.5654e-02,\n",
      "          2.4452e-03, -4.0955e-02, -2.4292e-02, -3.3951e-04, -1.3138e-02,\n",
      "         -7.5562e-02, -2.4002e-02,  1.5640e-02, -6.3400e-03, -4.5128e-03,\n",
      "         -2.1255e-02, -2.5864e-02, -3.9948e-02, -4.9934e-03,  3.1452e-03,\n",
      "          9.9659e-05,  1.0078e-02, -1.7899e-02,  5.1079e-03,  6.0501e-03,\n",
      "         -5.3619e-02, -5.4962e-02, -2.9572e-02,  1.3435e-02, -6.6956e-02,\n",
      "         -7.1777e-02, -2.4780e-02, -9.2545e-03,  4.0161e-02, -2.1458e-03,\n",
      "          1.7395e-02,  3.7903e-02, -1.8854e-03,  4.8492e-02,  2.7237e-02,\n",
      "          3.8513e-02, -3.1471e-03, -3.3997e-02,  6.2622e-02,  1.2779e-03,\n",
      "         -4.5349e-02,  1.5671e-02,  7.6172e-02,  1.6693e-02,  1.1353e-02,\n",
      "          1.0095e-01,  1.0079e-04,  3.1769e-02,  2.0309e-02,  3.8757e-03,\n",
      "         -3.3855e-03, -2.1172e-04,  1.7151e-02, -4.3030e-02, -2.5009e-02,\n",
      "         -1.2901e-02, -1.4511e-02,  4.9896e-03,  1.4809e-02, -2.4857e-02,\n",
      "          7.9117e-03, -1.2970e-02]], device='cuda:0', dtype=torch.float16)\n",
      "tensor([[0.6987]], device='cuda:0', dtype=torch.float16)\n"
     ]
    }
   ],
   "source": [
    "single_image_path = \"/home/zhengwei/Desktop/Zhengwei/Projects/datasets/DukeMTMC-reID/pytorch/train_all/4509/4509_c7_f0115296.jpg\"\n",
    "single_image = preprocess(Image.open(single_image_path)).unsqueeze(0)\n",
    "\n",
    "print(single_image.shape)\n",
    "print(images_feature.keys())\n",
    "\n",
    "# print(\"4509_1\",images_feature[\"4509_c7_f0115296.jpg\"])\n",
    "\n",
    "print(\"4509_2\", images_feature[\"4509_c6_f0110933.jpg\"])\n",
    "\n",
    "probs = (images_feature[\"4509_c7_f0115296.jpg\"] @ images_feature[\"4509_c6_f0110933.jpg\"].T)\n",
    "\n",
    "print(probs)"
   ]
  },
  {
   "cell_type": "code",
   "execution_count": 23,
   "metadata": {},
   "outputs": [
    {
     "name": "stdout",
     "output_type": "stream",
     "text": [
      "16522\n"
     ]
    }
   ],
   "source": [
    "print(len(images_feature))"
   ]
  },
  {
   "cell_type": "code",
   "execution_count": 58,
   "metadata": {},
   "outputs": [
    {
     "name": "stdout",
     "output_type": "stream",
     "text": [
      "used 55 iterations (0.0599s) to cluster 16522 items into 21 clusters\n",
      "torch.Size([16522])\n",
      "[(17, 931), (2, 906), (18, 903), (6, 901), (7, 897), (13, 895), (14, 869), (12, 821), (11, 818), (15, 811), (16, 809), (3, 794), (1, 785), (20, 777), (19, 768), (10, 760), (0, 708), (5, 678), (8, 610), (4, 577), (9, 504)]\n"
     ]
    }
   ],
   "source": [
    "from fast_pytorch_kmeans import KMeans, MultiKMeans\n",
    "from collections import Counter\n",
    "import torch\n",
    "\n",
    "kmeans = KMeans(n_clusters=21, mode='euclidean', verbose=1)\n",
    "x = torch.randn(16522, 512, device='cuda')\n",
    "labels = kmeans.fit_predict(x)\n",
    "\n",
    "print(labels.shape)\n",
    "# count the number of samples in each cluster, with sorted order\n",
    "print(Counter(labels.cpu().numpy()).most_common())"
   ]
  },
  {
   "cell_type": "code",
   "execution_count": 71,
   "metadata": {},
   "outputs": [
    {
     "data": {
      "text/plain": [
       "<matplotlib.collections.PathCollection at 0x7efcc4346640>"
      ]
     },
     "execution_count": 71,
     "metadata": {},
     "output_type": "execute_result"
    },
    {
     "data": {
      "image/png": "[encoded data removed]",
      "text/plain": [
       "<Figure size 640x480 with 1 Axes>"
      ]
     },
     "metadata": {},
     "output_type": "display_data"
    }
   ],
   "source": [
    "import matplotlib.pyplot as plt\n",
    "\n",
    "data = x.cpu().numpy()\n",
    "plt.scatter(data[:200, 0], data[:200, 1], c=labels[:200], s=10, cmap=\"jet\")"
   ]
  },
  {
   "cell_type": "code",
   "execution_count": 73,
   "metadata": {},
   "outputs": [
    {
     "name": "stdout",
     "output_type": "stream",
     "text": [
      "torch.Size([21, 512])\n"
     ]
    },
    {
     "data": {
      "image/png": "[encoded data removed]",
      "text/plain": [
       "<Figure size 640x480 with 1 Axes>"
      ]
     },
     "metadata": {},
     "output_type": "display_data"
    }
   ],
   "source": [
    "centroids = kmeans.centroids\n",
    "print(centroids.shape)\n",
    "centroids = centroids.cpu().numpy()\n",
    "plt.scatter(centroids[:, 0], centroids[:, 1], s=70)\n",
    "plt.show()"
   ]
  },
  {
   "cell_type": "markdown",
   "metadata": {},
   "source": []
  },
  {
   "cell_type": "code",
   "execution_count": null,
   "metadata": {},
   "outputs": [],
   "source": []
  }
 ],
 "metadata": {
  "kernelspec": {
   "display_name": "torch3.6",
   "language": "python",
   "name": "python3"
  },
  "language_info": {
   "codemirror_mode": {
    "name": "ipython",
    "version": 3
   },
   "file_extension": ".py",
   "mimetype": "text/x-python",
   "name": "python",
   "nbconvert_exporter": "python",
   "pygments_lexer": "ipython3",
   "version": "3.9.18"
  }
 },
 "nbformat": 4,
 "nbformat_minor": 2
}
