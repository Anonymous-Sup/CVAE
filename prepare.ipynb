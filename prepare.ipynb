{
 "cells": [
  {
   "cell_type": "code",
   "execution_count": 3,
   "metadata": {},
   "outputs": [],
   "source": [
    "import os\n",
    "from shutil import copyfile"
   ]
  },
  {
   "cell_type": "code",
   "execution_count": 4,
   "metadata": {},
   "outputs": [],
   "source": [
    "######################################################################\n",
    "# Prepare dataset for training\n",
    "# You only need to change this line to your dataset download path\n",
    "# --------------------------------------------------------------------\n",
    "\n",
    "download_path = 'D:\\Datasets\\DukeMTMC-reID'\n",
    "\n",
    "if 'cuhk' in download_path:\n",
    "    suffix = 'png'\n",
    "else:\n",
    "    suffix = 'jpg'\n",
    "\n",
    "if not os.path.isdir(download_path):\n",
    "    print('please change the download_path')\n",
    "\n",
    "save_path = download_path + '/pytorch'\n",
    "if not os.path.isdir(save_path):\n",
    "    os.mkdir(save_path)"
   ]
  },
  {
   "cell_type": "code",
   "execution_count": 5,
   "metadata": {},
   "outputs": [],
   "source": [
    "query_path = download_path + '/query'\n",
    "query_save_path = download_path + '/pytorch/query'\n",
    "if not os.path.isdir(query_save_path):\n",
    "    os.mkdir(query_save_path)\n",
    "    \n",
    "for root, dirs, files in os.walk(query_path, topdown=True):\n",
    "    for name in files:\n",
    "        if not name[-3:] == suffix:\n",
    "            continue\n",
    "        ID = name.split('_')\n",
    "        src_path = query_path + '/' + name\n",
    "        dst_path = query_save_path + '/' + ID[0]\n",
    "        if not os.path.isdir(dst_path):\n",
    "            os.mkdir(dst_path)\n",
    "        copyfile(src_path, dst_path + '/' + name)"
   ]
  },
  {
   "cell_type": "code",
   "execution_count": 6,
   "metadata": {},
   "outputs": [],
   "source": [
    "# gallery\n",
    "gallery_path = download_path + '/bounding_box_test'\n",
    "gallery_save_path = download_path + '/pytorch/gallery'\n",
    "if not os.path.isdir(gallery_save_path):\n",
    "    os.mkdir(gallery_save_path)\n",
    "\n",
    "for root, dirs, files in os.walk(gallery_path, topdown=True):\n",
    "    for name in files:\n",
    "        if not name[-3:] == suffix:\n",
    "            continue\n",
    "        ID = name.split('_')\n",
    "        src_path = gallery_path + '/' + name\n",
    "        dst_path = gallery_save_path + '/' + ID[0]\n",
    "        if not os.path.isdir(dst_path):\n",
    "            os.mkdir(dst_path)\n",
    "        copyfile(src_path, dst_path + '/' + name)"
   ]
  },
  {
   "cell_type": "code",
   "execution_count": 7,
   "metadata": {},
   "outputs": [],
   "source": [
    "# ---------------------------------------\n",
    "# train_all\n",
    "train_path = download_path + '/bounding_box_train'\n",
    "train_save_path = download_path + '/pytorch/train_all'\n",
    "if not os.path.isdir(train_save_path):\n",
    "    os.mkdir(train_save_path)\n",
    "\n",
    "for root, dirs, files in os.walk(train_path, topdown=True):\n",
    "    for name in files:\n",
    "        if not name[-3:] == suffix:\n",
    "            continue\n",
    "        ID = name.split('_')\n",
    "        src_path = train_path + '/' + name\n",
    "        dst_path = train_save_path + '/' + ID[0]\n",
    "        if not os.path.isdir(dst_path):\n",
    "            os.mkdir(dst_path)\n",
    "        copyfile(src_path, dst_path + '/' + name)"
   ]
  },
  {
   "cell_type": "code",
   "execution_count": 31,
   "metadata": {},
   "outputs": [
    {
     "name": "stdout",
     "output_type": "stream",
     "text": [
      "D:\\Datasets\\DukeMTMC-reID/bounding_box_train\n"
     ]
    }
   ],
   "source": [
    "train_path = download_path + '/bounding_box_train'\n",
    "cnt = 0\n",
    "root, dirs, files = next(os.walk(train_path, topdown=True))\n",
    "\n",
    "print(root)"
   ]
  },
  {
   "cell_type": "markdown",
   "metadata": {},
   "source": [
    "### Official code of Open-Clip"
   ]
  },
  {
   "cell_type": "code",
   "execution_count": null,
   "metadata": {},
   "outputs": [],
   "source": [
    "import torch\n",
    "from PIL import Image\n",
    "import open_clip\n",
    "\n",
    "model, _, preprocess = open_clip.create_model_and_transforms('ViT-B-32', pretrained='laion2b_s34b_b79k')\n",
    "tokenizer = open_clip.get_tokenizer('ViT-B-32')\n",
    "\n",
    "image = preprocess(Image.open(\"CLIP.png\")).unsqueeze(0)\n",
    "\n",
    "text = tokenizer([\"a diagram\", \"a dog\", \"a cat\"])\n",
    "\n",
    "with torch.no_grad(), torch.cuda.amp.autocast():\n",
    "    image_features = model.encode_image(image)\n",
    "    text_features = model.encode_text(text)\n",
    "    image_features /= image_features.norm(dim=-1, keepdim=True)\n",
    "    text_features /= text_features.norm(dim=-1, keepdim=True)\n",
    "\n",
    "    text_probs = (100.0 * image_features @ text_features.T).softmax(dim=-1)\n",
    "\n",
    "print(\"Label probs:\", text_probs)  # prints: [[1., 0., 0.]]"
   ]
  },
  {
   "cell_type": "markdown",
   "metadata": {},
   "source": [
    "### For feature extraction"
   ]
  },
  {
   "cell_type": "code",
   "execution_count": 35,
   "metadata": {},
   "outputs": [
    {
     "name": "stdout",
     "output_type": "stream",
     "text": [
      "train_path: D:/Datasets/DukeMTMC-reID/pytorch/train_all\n",
      "root: D:\\Datasets\\DukeMTMC-reID/bounding_box_train\n",
      "0001_c2_f0046182 .jpg\n"
     ]
    },
    {
     "ename": "NameError",
     "evalue": "name 'preprocess' is not defined",
     "output_type": "error",
     "traceback": [
      "\u001b[1;31m---------------------------------------------------------------------------\u001b[0m",
      "\u001b[1;31mNameError\u001b[0m                                 Traceback (most recent call last)",
      "\u001b[1;32m<ipython-input-35-c430558d7091>\u001b[0m in \u001b[0;36m<module>\u001b[1;34m\u001b[0m\n\u001b[0;32m     22\u001b[0m         \u001b[0mprint\u001b[0m\u001b[1;33m(\u001b[0m\u001b[0mte\u001b[0m\u001b[1;33m,\u001b[0m \u001b[0mext\u001b[0m\u001b[1;33m)\u001b[0m\u001b[1;33m\u001b[0m\u001b[1;33m\u001b[0m\u001b[0m\n\u001b[0;32m     23\u001b[0m         \u001b[0msingle_image_path\u001b[0m \u001b[1;33m=\u001b[0m \u001b[0mos\u001b[0m\u001b[1;33m.\u001b[0m\u001b[0mpath\u001b[0m\u001b[1;33m.\u001b[0m\u001b[0mjoin\u001b[0m\u001b[1;33m(\u001b[0m\u001b[0mroot\u001b[0m\u001b[1;33m,\u001b[0m \u001b[0mname\u001b[0m\u001b[1;33m)\u001b[0m\u001b[1;33m\u001b[0m\u001b[1;33m\u001b[0m\u001b[0m\n\u001b[1;32m---> 24\u001b[1;33m         \u001b[0msingle_image\u001b[0m \u001b[1;33m=\u001b[0m \u001b[0mpreprocess\u001b[0m\u001b[1;33m(\u001b[0m\u001b[0mImage\u001b[0m\u001b[1;33m.\u001b[0m\u001b[0mopen\u001b[0m\u001b[1;33m(\u001b[0m\u001b[0msingle_image_path\u001b[0m\u001b[1;33m)\u001b[0m\u001b[1;33m)\u001b[0m\u001b[1;33m.\u001b[0m\u001b[0munsqueeze\u001b[0m\u001b[1;33m(\u001b[0m\u001b[1;36m0\u001b[0m\u001b[1;33m)\u001b[0m\u001b[1;33m\u001b[0m\u001b[1;33m\u001b[0m\u001b[0m\n\u001b[0m\u001b[0;32m     25\u001b[0m         \u001b[1;32mwith\u001b[0m \u001b[0mtorch\u001b[0m\u001b[1;33m.\u001b[0m\u001b[0mno_grad\u001b[0m\u001b[1;33m(\u001b[0m\u001b[1;33m)\u001b[0m\u001b[1;33m,\u001b[0m \u001b[0mtorch\u001b[0m\u001b[1;33m.\u001b[0m\u001b[0mcuda\u001b[0m\u001b[1;33m.\u001b[0m\u001b[0mamp\u001b[0m\u001b[1;33m.\u001b[0m\u001b[0mautocast\u001b[0m\u001b[1;33m(\u001b[0m\u001b[1;33m)\u001b[0m\u001b[1;33m:\u001b[0m\u001b[1;33m\u001b[0m\u001b[1;33m\u001b[0m\u001b[0m\n\u001b[0;32m     26\u001b[0m             \u001b[0msingle_image_features\u001b[0m \u001b[1;33m=\u001b[0m \u001b[0mmodel\u001b[0m\u001b[1;33m.\u001b[0m\u001b[0mencode_image\u001b[0m\u001b[1;33m(\u001b[0m\u001b[0msingle_image\u001b[0m\u001b[1;33m)\u001b[0m\u001b[1;33m\u001b[0m\u001b[1;33m\u001b[0m\u001b[0m\n",
      "\u001b[1;31mNameError\u001b[0m: name 'preprocess' is not defined"
     ]
    }
   ],
   "source": [
    "import torch\n",
    "from PIL import Image\n",
    "import open_clip\n",
    "\n",
    "train_path = 'D:/Datasets/DukeMTMC-reID/pytorch/train_all'\n",
    "print('train_path:', train_path)\n",
    "\n",
    "feature_path = 'D:/Datasets/DukeMTMC-reID/tensors/train_all'\n",
    "\n",
    "# get all folders in the train_path\n",
    "dirs = os.listdir(train_path)\n",
    "for dir in dirs:\n",
    "    feature_root= os.path.join(feature_path, dir)\n",
    "    os.makedirs(feature_root, exist_ok=True)\n",
    "        \n",
    "    root, _, files = next(os.walk(train_path + '/' + dir))\n",
    "    print('root:', root)\n",
    "    for name in files:\n",
    "        pre, ext = os.path.splitext(name)\n",
    "        if ext != suffix:\n",
    "            continue\n",
    "        single_image_path = os.path.join(root, name)\n",
    "        single_image = preprocess(Image.open(single_image_path)).unsqueeze(0)\n",
    "        with torch.no_grad(), torch.cuda.amp.autocast():\n",
    "            single_image_features = model.encode_image(single_image)\n",
    "            single_image_features /= single_image_features.norm(dim=-1, keepdim=True)\n",
    "            torch.save(single_image_features, os.path.join(feature_root, pre + '.pt'))\n",
    "    break\n",
    "\n",
    "\n",
    "\n"
   ]
  },
  {
   "cell_type": "code",
   "execution_count": 36,
   "metadata": {},
   "outputs": [
    {
     "ename": "AssertionError",
     "evalue": "Torch not compiled with CUDA enabled",
     "output_type": "error",
     "traceback": [
      "\u001b[1;31m---------------------------------------------------------------------------\u001b[0m",
      "\u001b[1;31mAssertionError\u001b[0m                            Traceback (most recent call last)",
      "\u001b[1;32m<ipython-input-36-06c60d1c4c2b>\u001b[0m in \u001b[0;36m<module>\u001b[1;34m\u001b[0m\n\u001b[0;32m      3\u001b[0m \u001b[1;33m\u001b[0m\u001b[0m\n\u001b[0;32m      4\u001b[0m \u001b[0mkmeans\u001b[0m \u001b[1;33m=\u001b[0m \u001b[0mKMeans\u001b[0m\u001b[1;33m(\u001b[0m\u001b[0mn_clusters\u001b[0m\u001b[1;33m=\u001b[0m\u001b[1;36m8\u001b[0m\u001b[1;33m,\u001b[0m \u001b[0mmode\u001b[0m\u001b[1;33m=\u001b[0m\u001b[1;34m'euclidean'\u001b[0m\u001b[1;33m,\u001b[0m \u001b[0mverbose\u001b[0m\u001b[1;33m=\u001b[0m\u001b[1;36m1\u001b[0m\u001b[1;33m)\u001b[0m\u001b[1;33m\u001b[0m\u001b[1;33m\u001b[0m\u001b[0m\n\u001b[1;32m----> 5\u001b[1;33m \u001b[0mx\u001b[0m \u001b[1;33m=\u001b[0m \u001b[0mtorch\u001b[0m\u001b[1;33m.\u001b[0m\u001b[0mrandn\u001b[0m\u001b[1;33m(\u001b[0m\u001b[1;36m100000\u001b[0m\u001b[1;33m,\u001b[0m \u001b[1;36m64\u001b[0m\u001b[1;33m,\u001b[0m \u001b[0mdevice\u001b[0m\u001b[1;33m=\u001b[0m\u001b[1;34m'cuda'\u001b[0m\u001b[1;33m)\u001b[0m\u001b[1;33m\u001b[0m\u001b[1;33m\u001b[0m\u001b[0m\n\u001b[0m\u001b[0;32m      6\u001b[0m \u001b[0mlabels\u001b[0m \u001b[1;33m=\u001b[0m \u001b[0mkmeans\u001b[0m\u001b[1;33m.\u001b[0m\u001b[0mfit_predict\u001b[0m\u001b[1;33m(\u001b[0m\u001b[0mx\u001b[0m\u001b[1;33m)\u001b[0m\u001b[1;33m\u001b[0m\u001b[1;33m\u001b[0m\u001b[0m\n",
      "\u001b[1;32mc:\\Users\\81570\\.conda\\envs\\torch3.6\\lib\\site-packages\\torch\\cuda\\__init__.py\u001b[0m in \u001b[0;36m_lazy_init\u001b[1;34m()\u001b[0m\n\u001b[0;32m    184\u001b[0m             raise RuntimeError(\n\u001b[0;32m    185\u001b[0m                 \"Cannot re-initialize CUDA in forked subprocess. \" + msg)\n\u001b[1;32m--> 186\u001b[1;33m         \u001b[0m_check_driver\u001b[0m\u001b[1;33m(\u001b[0m\u001b[1;33m)\u001b[0m\u001b[1;33m\u001b[0m\u001b[1;33m\u001b[0m\u001b[0m\n\u001b[0m\u001b[0;32m    187\u001b[0m         \u001b[1;32mif\u001b[0m \u001b[0m_cudart\u001b[0m \u001b[1;32mis\u001b[0m \u001b[1;32mNone\u001b[0m\u001b[1;33m:\u001b[0m\u001b[1;33m\u001b[0m\u001b[1;33m\u001b[0m\u001b[0m\n\u001b[0;32m    188\u001b[0m             raise AssertionError(\n",
      "\u001b[1;32mc:\\Users\\81570\\.conda\\envs\\torch3.6\\lib\\site-packages\\torch\\cuda\\__init__.py\u001b[0m in \u001b[0;36m_check_driver\u001b[1;34m()\u001b[0m\n\u001b[0;32m     59\u001b[0m \u001b[1;32mdef\u001b[0m \u001b[0m_check_driver\u001b[0m\u001b[1;33m(\u001b[0m\u001b[1;33m)\u001b[0m\u001b[1;33m:\u001b[0m\u001b[1;33m\u001b[0m\u001b[1;33m\u001b[0m\u001b[0m\n\u001b[0;32m     60\u001b[0m     \u001b[1;32mif\u001b[0m \u001b[1;32mnot\u001b[0m \u001b[0mhasattr\u001b[0m\u001b[1;33m(\u001b[0m\u001b[0mtorch\u001b[0m\u001b[1;33m.\u001b[0m\u001b[0m_C\u001b[0m\u001b[1;33m,\u001b[0m \u001b[1;34m'_cuda_isDriverSufficient'\u001b[0m\u001b[1;33m)\u001b[0m\u001b[1;33m:\u001b[0m\u001b[1;33m\u001b[0m\u001b[1;33m\u001b[0m\u001b[0m\n\u001b[1;32m---> 61\u001b[1;33m         \u001b[1;32mraise\u001b[0m \u001b[0mAssertionError\u001b[0m\u001b[1;33m(\u001b[0m\u001b[1;34m\"Torch not compiled with CUDA enabled\"\u001b[0m\u001b[1;33m)\u001b[0m\u001b[1;33m\u001b[0m\u001b[1;33m\u001b[0m\u001b[0m\n\u001b[0m\u001b[0;32m     62\u001b[0m     \u001b[1;32mif\u001b[0m \u001b[1;32mnot\u001b[0m \u001b[0mtorch\u001b[0m\u001b[1;33m.\u001b[0m\u001b[0m_C\u001b[0m\u001b[1;33m.\u001b[0m\u001b[0m_cuda_isDriverSufficient\u001b[0m\u001b[1;33m(\u001b[0m\u001b[1;33m)\u001b[0m\u001b[1;33m:\u001b[0m\u001b[1;33m\u001b[0m\u001b[1;33m\u001b[0m\u001b[0m\n\u001b[0;32m     63\u001b[0m         \u001b[1;32mif\u001b[0m \u001b[0mtorch\u001b[0m\u001b[1;33m.\u001b[0m\u001b[0m_C\u001b[0m\u001b[1;33m.\u001b[0m\u001b[0m_cuda_getDriverVersion\u001b[0m\u001b[1;33m(\u001b[0m\u001b[1;33m)\u001b[0m \u001b[1;33m==\u001b[0m \u001b[1;36m0\u001b[0m\u001b[1;33m:\u001b[0m\u001b[1;33m\u001b[0m\u001b[1;33m\u001b[0m\u001b[0m\n",
      "\u001b[1;31mAssertionError\u001b[0m: Torch not compiled with CUDA enabled"
     ]
    }
   ],
   "source": [
    "from fast_pytorch_kmeans import KMeans\n",
    "import torch\n",
    "\n",
    "kmeans = KMeans(n_clusters=8, mode='euclidean', verbose=1)\n",
    "x = torch.randn(100000, 64, device='cuda')\n",
    "labels = kmeans.fit_predict(x)"
   ]
  },
  {
   "cell_type": "code",
   "execution_count": 3,
   "metadata": {},
   "outputs": [],
   "source": [
    "import os.path as osp\n",
    "import numpy as np\n",
    "import torch\n",
    "import glob\n",
    "import re"
   ]
  },
  {
   "cell_type": "code",
   "execution_count": null,
   "metadata": {},
   "outputs": [],
   "source": [
    "import os.path as osp\n",
    "import numpy as np\n",
    "import torch\n",
    "import glob\n",
    "\n",
    "dir_path = \"D:/Datasets/DukeMTMC-reID/pytorch/train_all\"\n",
    "tensor_paths = glob.glob(osp.join(dir_path, '*/*.pt'))\n",
    "\n",
    "# 将路径下所有的tensor保存成一个全部tensor，维度为（数量，维度）\n",
    "all_tensors = []\n",
    "for tensor_path in tensor_paths:\n",
    "    tensor = torch.load(tensor_path)\n",
    "    all_tensors.append(tensor)\n",
    "all_tensors = torch.cat(all_tensors, dim=0)\n",
    "all_tensors = all_tensors.cuda()\n",
    "\n",
    "# 使用kmeans聚类\n",
    "k = 25\n",
    "sim_mode = 'euclidean'\n",
    "kmeans = KMeans(n_clusters=k, mode=sim_mode, verbose=1)\n",
    "labels = kmeans.fit_predict(all_tensors)\n",
    "centroids = kmeans.centroids\n",
    "\n",
    "# 保存labels和centroids\n",
    "result={}\n",
    "result['labels'] = labels # shape=(num_samples,)\n",
    "result['centroids'] = centroids # shape=(num_clusters, feature_dim)\n",
    "save_path = \"/Kmeans_result/DukeMTMC-reID/{}k_{}.pt\".format(k, sim_mode)\n",
    "torch.save(result, save_path)\n",
    "\n"
   ]
  },
  {
   "cell_type": "code",
   "execution_count": 10,
   "metadata": {},
   "outputs": [
    {
     "name": "stdout",
     "output_type": "stream",
     "text": [
      "['D:/Datasets/DukeMTMC-reID/pytorch/train_all\\\\0001\\\\0001_c2_f0046182.jpg', 'D:/Datasets/DukeMTMC-reID/pytorch/train_all\\\\0001\\\\0001_c2_f0046302.jpg', 'D:/Datasets/DukeMTMC-reID/pytorch/train_all\\\\0001\\\\0001_c2_f0046422.jpg', 'D:/Datasets/DukeMTMC-reID/pytorch/train_all\\\\0001\\\\0001_c2_f0046542.jpg', 'D:/Datasets/DukeMTMC-reID/pytorch/train_all\\\\0001\\\\0001_c2_f0046662.jpg', 'D:/Datasets/DukeMTMC-reID/pytorch/train_all\\\\0001\\\\0001_c2_f0046782.jpg', 'D:/Datasets/DukeMTMC-reID/pytorch/train_all\\\\0001\\\\0001_c2_f0046902.jpg', 'D:/Datasets/DukeMTMC-reID/pytorch/train_all\\\\0001\\\\0001_c2_f0047022.jpg', 'D:/Datasets/DukeMTMC-reID/pytorch/train_all\\\\0001\\\\0001_c5_f0051247.jpg', 'D:/Datasets/DukeMTMC-reID/pytorch/train_all\\\\0001\\\\0001_c5_f0051367.jpg']\n",
      "1 2\n"
     ]
    }
   ],
   "source": [
    "print(img_paths[:10])\n",
    "pattern = re.compile(r'([-\\d]+)_c(\\d)')\n",
    "pid, cam = map(int, pattern.search(img_paths[0]).groups())\n",
    "print(pid, cam)\n"
   ]
  }
 ],
 "metadata": {
  "kernelspec": {
   "display_name": "torch3.6",
   "language": "python",
   "name": "python3"
  },
  "language_info": {
   "codemirror_mode": {
    "name": "ipython",
    "version": 3
   },
   "file_extension": ".py",
   "mimetype": "text/x-python",
   "name": "python",
   "nbconvert_exporter": "python",
   "pygments_lexer": "ipython3",
   "version": "3.6.13"
  }
 },
 "nbformat": 4,
 "nbformat_minor": 2
}
